{
 "cells": [
  {
   "cell_type": "markdown",
   "id": "e89e5f1a-db8a-42b6-a9e1-d5819fa77b04",
   "metadata": {},
   "source": [
    "# Zufallszahlen in Python Teil 4 - CSV für mehrere Punkte erstellen\n",
    "\n",
    "Nachdem wir uns im [vorherigen Kapitel](./RandomNumbersTeil4.html) damit beschäftigt haben wie man die Daten für einen gesuchten Punkt in eine CSV-Datei zu schreiben, betrachten wir in diesem Kapitel die Vorgehensweise um das gleiche Ergebnis für mehrere Punkte zu erzielen. Um das gewünschte Ergebnis zu erreichen müssen wir dem Code aus dem vorherigen Kapitel leichten Änderungen unterziehen. Im folgenden betrachten wir diese genauer.  "
   ]
  },
  {
   "cell_type": "code",
   "execution_count": null,
   "id": "c78ca3e7-e4cf-4c2a-bf68-4c4bd09b26ee",
   "metadata": {},
   "outputs": [],
   "source": [
    "import random as rd\n",
    "import numpy\n",
    "import csv\n",
    "\n",
    "\n",
    "numPart = 1\n",
    "pointToHit = numpy.array([[0, 2], [1, 1], [1, 2], [1, 3], [1, 4], [2, 1], [2, 2], [2, 3], [2, 4], [3, 1], [3, 2], [3, 3], [3, 4], [4, 1], [4, 2], [4, 3], [4, 4]], dtype=int)\n",
    "NORTH = 1; SOUTH = 2; WEST = 3; EAST = 4"
   ]
  },
  {
   "cell_type": "markdown",
   "id": "d7917cfc-a1e5-43e7-9bb5-9c6c4a8db917",
   "metadata": {},
   "source": [
    "Anstatt eines einzelnen Punktes der getroffen werden soll können wir mit Hilfe des numpy-Arrays diesmal beliebig viele Punkte festlegen die gesucht werden sollen. Die Imports und die restlichen Variablen bleiben unverändert zum vorherigen Notebook. "
   ]
  },
  {
   "cell_type": "code",
   "execution_count": null,
   "id": "4ad0459b-d6c6-49cb-9af6-9e59ba1c6c7c",
   "metadata": {},
   "outputs": [],
   "source": [
    "def hitCheck(pointToHit, realPoint):\n",
    "    return numpy.array_equal(pointToHit, realPoint)\n",
    "\n",
    "\n",
    "def singleStep():\n",
    "    position = numpy.zeros(shape=(2,), dtype=int)\n",
    "    currentStep = rd.randint(1, 4 + 1)\n",
    "    position[1] += numpy.where(currentStep == NORTH, 1, 0)\n",
    "    position[1] -= numpy.where(currentStep == SOUTH, 1, 0)\n",
    "    position[0] += numpy.where(currentStep == EAST, 1, 0)\n",
    "    position[0] -= numpy.where(currentStep == WEST, 1, 0)\n",
    "    return position\n"
   ]
  },
  {
   "cell_type": "markdown",
   "id": "bf3633cf-028e-4a4d-b4db-ee00e25807db",
   "metadata": {},
   "source": [
    "Die Methoden hitCheck und singleStep bleiben unverändert und können einfach übernommen werden. Die Funktionsweise wurde in den vorherigen Notebooks erklärt und kann dort nachgelesen werden. "
   ]
  },
  {
   "cell_type": "code",
   "execution_count": null,
   "id": "5d74f22f-74f8-4bcd-8571-3989ece70a40",
   "metadata": {},
   "outputs": [],
   "source": [
    "def walkTillHit(numPart=1, maxStep=5):\n",
    "    positionsArray = numpy.zeros(shape=(maxStep+1, 2), dtype=int)\n",
    "    count = int(pointToHit.size/2)\n",
    "    hitArray = numpy.zeros(shape=(maxStep+1, count+1))\n",
    "    for step in numpy.arange(maxStep):\n",
    "        positionsArray[step+1, ] = positionsArray[step, ] + singleStep()\n",
    "        ind = 0\n",
    "        while ind < count:\n",
    "            print(ind)\n",
    "            if hitCheck(pointToHit[ind], positionsArray[step+1, ]):\n",
    "                hitArray[step+1, ind] = True\n",
    "                ind += 1\n",
    "            else:\n",
    "                hitArray[step+1, ind] = False\n",
    "                ind += 1\n",
    "        hitArray[step+1, count] = step+1\n",
    "    return hitArray"
   ]
  },
  {
   "cell_type": "markdown",
   "id": "85b405ab-c763-45ea-bba9-7513bee5d515",
   "metadata": {},
   "source": [
    "Die Methode walkTillHit muss für den neuen Verwendungszweck an einigen Stellen angepasst werden. Im Vergleich zum vorherigen Kapitel führen wir mit count hier noch eine zusätzliche Variable ein, die wir für die while-Schleife benötigen und um die Größe des hitArrays zu bestimmen. Denn auch diese Variable ändern sich, die von 2 Dimensionen auf count Dimensionen, wobei count der Anzahl der Punkte entspricht auf die wir untersuchen. In der for-Schleife rufen wir jetzt noch ein while-Schleife auf mit deren Hilfe wir nach dem berechnen der aktuellen Position für jeden Punkt prüfen ob er getroffen wurde. Treffen wir einen Punkt schreiben an im hitArray an Stelle step+1 und ind, der Zählervariable der while-Schleife, True in das Array und erhöhen ind um 1. Treffen wir nicht schreiben wir anstelle des True ein False in das Array und erhöhen ind um 1. In die letzte Spalte des Arrays fügen wir die Anzahl der Schritte ein, die wir zum Zeitpunkt des Eintrags gemacht haben. Nach komplettem durchlaufen der for-Schleife geben wir das hitArray als Ergebnis zurück. "
   ]
  },
  {
   "cell_type": "code",
   "execution_count": null,
   "id": "aaefdf2b-28b0-4f32-8c6f-87eb810ad6e4",
   "metadata": {},
   "outputs": [],
   "source": [
    "def writeToCSV(hitArray):\n",
    "    topic = \"Suche nach folgenden Punkten:\", pointToHit.tolist()\n",
    "    header = \"1 means hit, 0 means no hit\"\n",
    "    filename = \"Search_For_Points_.csv\"\n",
    "    with open(filename, 'w') as csvfile:\n",
    "        csvWriter = csv.writer(csvfile)\n",
    "        csvWriter.writerow(header)\n",
    "        csvWriter.writerow(topic)\n",
    "        csvWriter.writerows(hitArray)\n",
    "   \n",
    "\n",
    "def main():\n",
    "    writeToCSV(walkTillHit(1, 80))\n",
    "\n",
    "\n",
    "if __name__ == \"__main__\":\n",
    "    main()"
   ]
  },
  {
   "cell_type": "markdown",
   "id": "b5a46700-f2d2-4d67-a2a4-f0892940f23d",
   "metadata": {},
   "source": [
    "In der writeToCSV greifen wir das hitArray wieder auf um es in eine CSV-Datei zu schreiben. Wir legen neben dem Header, der hier den Inhalt der Datei beschreibt, noch die Variable topic an, in der wir die einzelnen Punkte speichern nach denen wir gesucht haben um sie als Spalten zu verwenden. Wir öffnen einen Writer, dem wir unsere Variablen übergeben und erhalten als Ergebnis eine CSV-Datei. Um das Programm auszuführen nutzen wir wieder unsere main-Methode aus den vorherigen Kapiteln. "
   ]
  },
  {
   "cell_type": "code",
   "execution_count": null,
   "id": "c99ee3fc-2d8d-44ab-92c0-561afe31f75c",
   "metadata": {},
   "outputs": [],
   "source": [
    "import random as rd\n",
    "import numpy\n",
    "import csv\n",
    "\n",
    "\n",
    "numPart = 1\n",
    "pointToHit = numpy.array([[0, 2], [1, 1], [1, 2], [1, 3], [1, 4], [2, 1], [2, 2], [2, 3], [2, 4], [3, 1], [3, 2], [3, 3], [3, 4], [4, 1], [4, 2], [4, 3], [4, 4]], dtype=int)\n",
    "NORTH = 1; SOUTH = 2; WEST = 3; EAST = 4\n",
    "\n",
    "\n",
    "def hitCheck(pointToHit, realPoint):\n",
    "    return numpy.array_equal(pointToHit, realPoint)\n",
    "\n",
    "\n",
    "def singleStep():\n",
    "    position = numpy.zeros(shape=(2,), dtype=int)\n",
    "    currentStep = rd.randint(1, 4 + 1)\n",
    "    position[1] += numpy.where(currentStep == NORTH, 1, 0)\n",
    "    position[1] -= numpy.where(currentStep == SOUTH, 1, 0)\n",
    "    position[0] += numpy.where(currentStep == EAST, 1, 0)\n",
    "    position[0] -= numpy.where(currentStep == WEST, 1, 0)\n",
    "    return position\n",
    "\n",
    "\n",
    "def walkTillHit(numPart=1, maxStep=5):\n",
    "    positionsArray = numpy.zeros(shape=(maxStep+1, 2), dtype=int)\n",
    "    count = int(pointToHit.size/2)\n",
    "    hitArray = numpy.zeros(shape=(maxStep+1, count+1))\n",
    "    for step in numpy.arange(maxStep):\n",
    "        positionsArray[step+1, ] = positionsArray[step, ] + singleStep()\n",
    "        ind = 0\n",
    "        while ind < count:\n",
    "            print(ind)\n",
    "            if hitCheck(pointToHit[ind], positionsArray[step+1, ]):\n",
    "                hitArray[step+1, ind] = True\n",
    "                ind += 1\n",
    "            else:\n",
    "                hitArray[step+1, ind] = False\n",
    "                ind += 1\n",
    "        hitArray[step+1, count] = step+1\n",
    "    return hitArray\n",
    "\n",
    "\n",
    "def writeToCSV(hitArray):\n",
    "    topic = \"Suche nach folgenden Punkten:\", pointToHit.tolist()\n",
    "    header = \"1 means hit, 0 means no hit\"\n",
    "    filename = \"Search_For_Points_.csv\"\n",
    "    with open(filename, 'w') as csvfile:\n",
    "        csvWriter = csv.writer(csvfile)\n",
    "        csvWriter.writerow(header)\n",
    "        csvWriter.writerow(topic)\n",
    "        csvWriter.writerows(hitArray)\n",
    "# Zusätzliche Spalte mit anzahl Schritte ergänzen\n",
    "\n",
    "def main():\n",
    "    writeToCSV(walkTillHit(1, 80))\n",
    "\n",
    "\n",
    "if __name__ == \"__main__\":\n",
    "    main()"
   ]
  },
  {
   "cell_type": "markdown",
   "id": "20c06068-7376-4397-b8da-916150948d08",
   "metadata": {},
   "source": [
    "Im Vergleich zur CSV-Datei für einen einzelnen Punkt, geben wir hier nicht mehr die Anzahl der Schritte an, die benötigt wurden um einen Treffer zu erzielen. Dafür reduzieren wir den Zeitaufwand erheblich um eine Vielzahl an Daten zu erhalten, da wir für eine beliebig große Anzahl an Punkten nur noch einmal eine Anzahl an Punkten berechnen müssen und nicht mehr wie zuvor jedes mal aufs neue. Sollte die Anzahl der Schritte nach denen ein Treffer auftrat doch von Relevanz sein, so kann diese theoretisch aus dem Index errechnet werden. Das Prinzip um die Daten zu erstellen bleibt wie schon zuvor das gleiche. Mit den erhaltenen Daten lässt sich beispielsweise eine Heatmap erstellen, die erhaltenen Daten sind die gleichen wie zuvor nur mit den beschriebenen Änderungen. "
   ]
  }
 ],
 "metadata": {
  "kernelspec": {
   "display_name": "Python 3 (ipykernel)",
   "language": "python",
   "name": "python3"
  },
  "language_info": {
   "codemirror_mode": {
    "name": "ipython",
    "version": 3
   },
   "file_extension": ".py",
   "mimetype": "text/x-python",
   "name": "python",
   "nbconvert_exporter": "python",
   "pygments_lexer": "ipython3",
   "version": "3.9.15"
  }
 },
 "nbformat": 4,
 "nbformat_minor": 5
}
