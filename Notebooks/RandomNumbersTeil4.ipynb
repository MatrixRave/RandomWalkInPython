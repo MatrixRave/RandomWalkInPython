{
 "cells": [
  {
   "cell_type": "markdown",
   "id": "47827b6a-f0e1-4de7-bc66-957b21feefe5",
   "metadata": {},
   "source": [
    "# Zufallszahlen in Python Teil 4 - Erzeugen von Daten für eine Heatmap\n",
    "\n",
    "In diesem Kapitel greifen wir das [vorherige Kapitel](./RandomNumbersTeil3.html) auf, und erstellen mit Hilfe des Random Walks bis ein Punkt getroffen ist, eine Vielzahl an Daten für verschieden Punkte. Diese Daten speichern wir in CSV-Dateien um aus ihnen später eine Heatmap anfertigen zu können. Grundlegend können wir den selben Code wie zuvor verwenden, allerdings werden wir wieder eine paar Änderungen vornehmen müssen, um die einzelnen Module an den neuen Verwendungszweck anzupassen. Zudem wird es notwendig den Code um eine Methode zu erweitern. Mit Hilfe dieser Methode werden die Daten anstatt sie direkt zu zeichnen in eine CSV-Datei geschrieben. Dafür entfällt in diesem Programm die Draw-Methode da wir nur Daten erstellen wollen, die Darstellung entfällt auf ein andere Kapitel. "
   ]
  },
  {
   "cell_type": "code",
   "execution_count": null,
   "id": "576a4a50-c155-4256-9b8d-0277ff967653",
   "metadata": {},
   "outputs": [],
   "source": [
    "import random as rd\n",
    "import numpy\n",
    "import csv\n",
    "\n",
    "\n",
    "numPart = 1\n",
    "pointToHit = numpy.array([4, 3], dtype=int)\n",
    "NORTH = 1; SOUTH = 2; WEST = 3; EAST = 4"
   ]
  },
  {
   "cell_type": "markdown",
   "id": "fac8af81-01d9-48ed-a038-e76f4166b82c",
   "metadata": {},
   "source": [
    "Wir importieren und initialisieren wie gewohnt wieder die benötigten Packages und Variablen. Statt Plotly importieren wir diesmal das CSV-Package um in CSV-Dateien schreiben zu können. "
   ]
  },
  {
   "cell_type": "code",
   "execution_count": null,
   "id": "23a935d6-fafa-4a33-bb6e-170ccbb4959c",
   "metadata": {},
   "outputs": [],
   "source": [
    "def hitCheck(pointToHit, realPoint):\n",
    "    return numpy.array_equal(pointToHit, realPoint)\n",
    "\n",
    "\n",
    "def singleStep():\n",
    "    position = numpy.zeros(shape=(2,), dtype=int)\n",
    "    currentStep = rd.randint(1, 4 + 1)\n",
    "    position[1] += numpy.where(currentStep == NORTH, 1, 0)\n",
    "    position[1] -= numpy.where(currentStep == SOUTH, 1, 0)\n",
    "    position[0] += numpy.where(currentStep == EAST, 1, 0)\n",
    "    position[0] -= numpy.where(currentStep == WEST, 1, 0)\n",
    "    return position"
   ]
  },
  {
   "cell_type": "markdown",
   "id": "91c27a5e-8130-461a-8e51-ae6c98ac4d08",
   "metadata": {},
   "source": [
    "Die hitCheck-Methode und die singleStep-Methode bleiben in diesem Programm unverändert und wir können sie einfach aus dem Programm zur Suche eines Punktes übernehmen. Die funtionsweise sollte aus vorherigen Kapiteln mittlerweile hinreichend bekannt sein, bei Bedarf kann sich die Funktionsweise [hier](./RandomNumbersTeil1.html) noch einmal betrachtet werden. "
   ]
  },
  {
   "cell_type": "code",
   "execution_count": null,
   "id": "f39cbc40-3713-42d4-88c1-cdfb41b646d1",
   "metadata": {},
   "outputs": [],
   "source": [
    "def walkTillHit(numPart=1, maxStep=5):\n",
    "    positionsArray = numpy.zeros(shape=(maxStep+1, 2), dtype=int)\n",
    "    hitArray = numpy.zeros(shape=(maxStep+1, 2))\n",
    "    for step in numpy.arange(maxStep):\n",
    "        positionsArray[step+1, ] = positionsArray[step, ] + singleStep()\n",
    "        if hitCheck(pointToHit, positionsArray[step+1, ]):\n",
    "            hitArray[step+1, 0] = True\n",
    "            hitArray[step+1, 1] = step+1\n",
    "        else:\n",
    "            hitArray[step+1, 0] = False\n",
    "            hitArray[step+1, 1] = 0\n",
    "    return hitArray"
   ]
  },
  {
   "cell_type": "markdown",
   "id": "50727188-b623-4cce-8f0a-96fae585439f",
   "metadata": {},
   "source": [
    "Die walkTillHit-Methode erfährt dagegen einige Änderungen. Zum einen führen wir mit dem Hit-Array eine neue Variable ein, in der wir speichern ob der Punkt getroffen wurde und wenn ja nach welchem Schritt, zum anderen erfährt die for-Schleife intern einige Änderungen um das hitArray zu füllen. Die Schleife iteriert dabei nach wie vor über die einzelnen Schritte und erstellt dabei genau wie in den vorherigen Kapiteln die aktuelle Position. Die Prüfung ob der gesuchte Punkt getroffen wurde bleibt ebenfalls erhalten, allerdings ändern sich die Aktionen wenn der Punkt getroffen bzw. nicht getroffen wird. Bei einem Treffer setzen wir den Index 0 des hit Arrays am Eintrag step+1 auf True und den Index 1 auf die Variable step+1. Wir speichern also das ein Treffer erfolgt ist und nach wie vielen Schritten er erfolgte. Treffen wir nicht, setzen wir den Index 0 an Stelle step+1 auf False und den Index 1 auf 0, da uns die Schrittzahl nur nach einem Treffer interessiert. Nach Durchlauf der kompletten Schleife und der Prüfung jedes erstellten Punkts geben wir das entstehende hitArrays als Ergbenis zurück. "
   ]
  },
  {
   "cell_type": "code",
   "execution_count": null,
   "id": "bf80bac8-7e1d-413c-be67-44f6baf977e8",
   "metadata": {},
   "outputs": [],
   "source": [
    "def writeToCSV(hitArray):\n",
    "    headers = ['Treffer', 'Nach Schritten']\n",
    "    filename = \"Search_For_Point_4,3_.csv\"\n",
    "    with open(filename, 'w') as csvfile:\n",
    "        csvWriter = csv.writer(csvfile)\n",
    "        csvWriter.writerow(headers)\n",
    "        csvWriter.writerows(hitArray)"
   ]
  },
  {
   "cell_type": "markdown",
   "id": "09e39b92-6fc1-4438-b62a-a2865535f1a2",
   "metadata": {},
   "source": [
    "In der Methode writeToCSV greifen wir das Ergebnis der walkTillHit-Methode auf und schreiben es in eine CSV-Datei. Da wir den Daten eine gewisse Lesbarkeit geben wollen fügen wir mit Hilfe der Variable headers eine Kopfzeile hinzu, mit der wir beschreiben wofür die Werte vor und nach dem Komma stehen. In der Variable filename speichern wir den Namen, den die entstehende CSV-Datei später bekommen soll. Wir legen anschließend fest, welchen Namen wir der Datei geben wollen und was der Dateityp sein soll und erstellen uns einen Writer. Mit diesem fügen wir zuerst die Kopfzeile als einzelne Zeile in die Datei ein, anschließend alle Einträge des hitArrays mit Hilfe des Befehls writerows. Die entstehende CSV-Datei mit dem von uns gewählten Namen wird im selben Verzeichnis gespeichert, in dem auch die dieses Programm liegt."
   ]
  },
  {
   "cell_type": "code",
   "execution_count": null,
   "id": "59de4323-9500-4279-bbcb-35d9eb9d2de1",
   "metadata": {},
   "outputs": [],
   "source": [
    "import random as rd\n",
    "import numpy\n",
    "import csv\n",
    "\n",
    "\n",
    "numPart = 1\n",
    "pointToHit = numpy.array([4, 3], dtype=int)\n",
    "NORTH = 1; SOUTH = 2; WEST = 3; EAST = 4\n",
    "\n",
    "\n",
    "def hitCheck(pointToHit, realPoint):\n",
    "    return numpy.array_equal(pointToHit, realPoint)\n",
    "\n",
    "\n",
    "def singleStep():\n",
    "    position = numpy.zeros(shape=(2,), dtype=int)\n",
    "    currentStep = rd.randint(1, 4 + 1)\n",
    "    position[1] += numpy.where(currentStep == NORTH, 1, 0)\n",
    "    position[1] -= numpy.where(currentStep == SOUTH, 1, 0)\n",
    "    position[0] += numpy.where(currentStep == EAST, 1, 0)\n",
    "    position[0] -= numpy.where(currentStep == WEST, 1, 0)\n",
    "    return position\n",
    "\n",
    "\n",
    "def walkTillHit(numPart=1, maxStep=5):\n",
    "    positionsArray = numpy.zeros(shape=(maxStep+1, 2), dtype=int)\n",
    "    hitArray = numpy.zeros(shape=(maxStep+1, 2))\n",
    "    for step in numpy.arange(maxStep):\n",
    "        positionsArray[step+1, ] = positionsArray[step, ] + singleStep()\n",
    "        if hitCheck(pointToHit, positionsArray[step+1, ]):\n",
    "            hitArray[step+1, 0] = True\n",
    "            hitArray[step+1, 1] = step+1\n",
    "        else:\n",
    "            hitArray[step+1, 0] = False\n",
    "            hitArray[step+1, 1] = 0\n",
    "    return hitArray\n",
    "\n",
    "\n",
    "def writeToCSV(hitArray):\n",
    "    print(hitArray)\n",
    "    headers = ['Treffer', 'Nach Schritten']\n",
    "    filename = \"Search_For_Point_4,3_.csv\"\n",
    "    with open(filename, 'w') as csvfile:\n",
    "        csvWriter = csv.writer(csvfile)\n",
    "        csvWriter.writerow(headers)\n",
    "        csvWriter.writerows(hitArray)\n",
    "\n",
    "\n",
    "def main():\n",
    "    writeToCSV(walkTillHit(1, 5000))\n",
    "\n",
    "\n",
    "if __name__ == \"__main__\":\n",
    "    main()"
   ]
  },
  {
   "cell_type": "markdown",
   "id": "c65dae8f-deb4-4eb3-9220-9fafd6ab85a1",
   "metadata": {},
   "source": [
    "Fassen wir also noch einmal zusammen: Die Erstellung der Daten in diesem Programm ist gleich des Prinzips das wir anwenden, wenn wir mit dem RandomWalk einen Punkt suchen. Der Unterschied besteht darin, dass wir die Daten diesmal nicht direkt für eine grafische Ausgabe nutzen, sondern sie in einer CSV-Datei sichern um sie später zu nutzen. Dafür legen wir die beiden Spalten \"Treffer\" und \"Nach Schritten\" an. In der Treffer steht eine 1 für einen Treffer, eine 0 für keinen Treffer. Kommt es zu einem Treffer wird in \"Nach Schritten\" die Anzahl der benötigten Schritte gespeichert, bleibt ein Treffer aus schreiben wir eine 0. Zu beachten ist, dass wir immer nur Daten für einen Punkt mit diesem Programm in ein Datei schreiben können. Der Datei geben wir einen Namen in dem der Punkt den wir suchen enthalten ist. \n",
    "Mit genug erstellten Daten lässt sich Beispielsweise eine Heatmap erstellen oder die Wahrscheinlichkeit berechnen einen Punkt zu treffen. <br> \n",
    "Im [nächsten Kapitel](./RandomNumbersTeil5.html) schauen wir uns an wie wir eine CSV-Datei für beliebig viele Punkte erstellen können. "
   ]
  }
 ],
 "metadata": {
  "kernelspec": {
   "display_name": "Python 3 (ipykernel)",
   "language": "python",
   "name": "python3"
  },
  "language_info": {
   "codemirror_mode": {
    "name": "ipython",
    "version": 3
   },
   "file_extension": ".py",
   "mimetype": "text/x-python",
   "name": "python",
   "nbconvert_exporter": "python",
   "pygments_lexer": "ipython3",
   "version": "3.9.15"
  }
 },
 "nbformat": 4,
 "nbformat_minor": 5
}
