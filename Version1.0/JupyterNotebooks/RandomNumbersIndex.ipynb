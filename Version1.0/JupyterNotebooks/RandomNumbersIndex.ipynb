{
 "cells": [
  {
   "cell_type": "markdown",
   "id": "0e54dcb5-2cf7-4ccc-895d-4db984b05f59",
   "metadata": {},
   "source": [
    "# Zufallszahlen mit Python - Index zum Notebook\n",
    "### Fabian Nicklas - 5.Semester - Wissenschaftliches Rechnen \n",
    "\n",
    "Im Laufe des Buches sollen dem Leser verschiedene Implementierungen des sogenannten Random Walks nähergebracht werden. Mit Hilfe dieses Modells lassen sich Zufallszahlen in großen Mengen leicht generieren und für eine spätere Darstellung nutzen. \n",
    "\n",
    "Zum besseren Verständnis empfiehlt es sich das Notebook in folgender Reihenfolge zu lesen: <br>\n",
    "Kapitel 1: [Implementierung eines Random Walks in 2 Dimensionen](./RandomNumbersTeil1.html) <br>\n",
    "Kapitel 2: [Random Walk in 3 Dimensionen](./RandomNumbersTeil2.html) <br>\n",
    "Kapitel 3: [Random Walk bis ein Punkt getroffen wird](./RandomNumbersTeil3.html) <br>\n",
    "Kapitel 4: [Erzeugen von Daten für eine Heatmap](./RandomNumbersTeil4.html) <br>\n",
    "Kapitel 5: [CSV für mehrere Punkte erstellen](./RandomNumbersTeil5.html) <br>\n",
    "Kapitel 6: [Pollen Motion](./RandomNumbersTeil6.html) <br>\n",
    "\n",
    "An dieser Stelle sei außerdem angemerkt, dass zugunsten der Performance der Notebooks auf eine extrem große Datenmenge verzichtet wurde. Wer dennoch mit großen Datenmengen experimentieren möchte, dem empfehle ich sich den Code in Spyder oder sonstige Umgebung zu kopieren und ihn dort auszuführen. \n",
    "Sollte bei Ausführung des Codes auch nach längerer Zeit keine Grafik angezeigt werden (mit höherer Schrittzahl steigt die Rechenzeit), empfiehlt es sich die folgenden beiden Codezeilen unter den anderen Imports in folgender Reihenfolge einzufügen: <br>\n",
    "import plotly.graph_objects as go <br>\n",
    "pio.renderers.default = 'browser' <br>\n",
    "So wird die Standardausgabe im Browser geöffnet und es sollte auf jeden Fall ein Ergebnis ausgegeben werden. <br>\n",
    "Um die Grafiken auf eine lesbare Größe zu skalieren wird außerdem der nachfolgende Code eingefügt. Wen die Darstellung mit Autoskalierung außerhalb des Notebooks interessiert, dem sei empfohlen den Code zu entfernen und den Code in Spyder oder einer anderen Umgebung auszuführen. "
   ]
  },
  {
   "cell_type": "code",
   "execution_count": null,
   "id": "e3b9f2c5-0596-44e5-8608-0ac50fd3600a",
   "metadata": {},
   "outputs": [],
   "source": [
    "    fig.update_layout(\n",
    "    autosize=False,\n",
    "    height=800,\n",
    "    width=1310)"
   ]
  },
  {
   "cell_type": "markdown",
   "id": "b48ad867-9348-4c87-896b-2aff50ec0922",
   "metadata": {},
   "source": [
    "## Quellen: \n",
    "Als Quellen wurden in diesem Projekt sowohl verschiedene Folien aus der Vorlesung \"Wissenschaftliches Rechnen\" von Manfred Brill genutzt, als auch das Buch  \"A Primer on Scientific Programming with Python\" von Hans Petter Langtangen in der 5. Auflage. [Langtangens Buch bei Springer](https://link.springer.com/book/10.1007/978-3-662-49887-3)"
   ]
  }
 ],
 "metadata": {
  "kernelspec": {
   "display_name": "Python 3 (ipykernel)",
   "language": "python",
   "name": "python3"
  },
  "language_info": {
   "codemirror_mode": {
    "name": "ipython",
    "version": 3
   },
   "file_extension": ".py",
   "mimetype": "text/x-python",
   "name": "python",
   "nbconvert_exporter": "python",
   "pygments_lexer": "ipython3",
   "version": "3.9.15"
  }
 },
 "nbformat": 4,
 "nbformat_minor": 5
}
